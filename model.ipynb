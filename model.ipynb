{
 "cells": [
  {
   "cell_type": "code",
   "execution_count": null,
   "metadata": {},
   "outputs": [],
   "source": [
    "#importing modules\n",
    "import pandas as pd\n",
    "import numpy as np\n",
    "import re\n",
    "from sklearn.model_selection import train_test_split\n",
    "from sklearn.feature_extraction.text import CountVectorizer\n",
    "from sklearn.preprocessing import LabelBinarizer, LabelEncoder\n",
    "from keras.preprocessing.text import Tokenizer\n",
    "from keras_preprocessing.sequence import pad_sequences\n",
    "from keras.models import Sequential\n",
    "from keras.layers import Embedding, LSTM, Dense, Dropout, Activation\n",
    "from keras.utils import to_categorical"
   ]
  },
  {
   "cell_type": "code",
   "execution_count": null,
   "metadata": {},
   "outputs": [],
   "source": [
    "#Global Functions for data cleaning\n",
    "# Global Functions\n",
    "def extract_hashtags(text):\n",
    "    if isinstance(text, (str, bytes)):\n",
    "        return re.findall(r'#\\w+', text)\n",
    "    else:\n",
    "        return \"NaN\"\n",
    "    \n",
    "def clean_text(text):\n",
    "    # remove URLs\n",
    "    text = re.sub(r'https?:\\/\\/\\S+', '', text)\n",
    "    \n",
    "    # remove hashtags and mentions\n",
    "    text = re.sub(r'#\\w+', '', text)\n",
    "    text = re.sub(r'@\\w+', '', text)\n",
    "    \n",
    "    # remove special characters and punctuation\n",
    "    text = re.sub(r'[@$!#%&()*+,-./:;<=>?[\\]^_`{|}~]', '', text)\n",
    "    \n",
    "    # remove extra whitespace\n",
    "    text = re.sub(r'\\s+', ' ', text).strip()\n",
    "    \n",
    "    # remove emojis\n",
    "    text = text.encode('ascii', 'ignore').decode()\n",
    "    return text"
   ]
  },
  {
   "cell_type": "code",
   "execution_count": null,
   "metadata": {},
   "outputs": [],
   "source": [
    "dataset = pd.read_csv(\"final_merged.csv\")\n",
    "dataset.head(30)\n",
    "\n",
    "#Data Preprocessing\n",
    "# remove all rows with empty post captions\n",
    "dataset = dataset.dropna(subset=['Post Captions'])\n",
    "\n",
    "#add all hashtags to another column \n",
    "dataset['extracted hashtags'] = dataset['Post Captions'].apply(extract_hashtags)\n",
    "\n",
    "#remove all hashtags and mentions from post captions and urls\n",
    "dataset['cleaned text'] = dataset['Post Captions'].apply(clean_text)\n",
    "\n",
    "#load data out to tag it manually\n",
    "# dataset.to_csv('cleaned_data2.csv', index=False)\n"
   ]
  }
 ],
 "metadata": {
  "language_info": {
   "name": "python"
  },
  "orig_nbformat": 4
 },
 "nbformat": 4,
 "nbformat_minor": 2
}
